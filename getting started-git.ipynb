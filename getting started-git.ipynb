{
 "cells": [
  {
   "cell_type": "markdown",
   "metadata": {},
   "source": [
    "# Getting Started on the Fraud Prediction Challenge"
   ]
  },
  {
   "cell_type": "markdown",
   "metadata": {},
   "source": [
    "A brief overview of the challenge\n",
    "Bank A is a private owned bank which has been faced with a lot of issues from their customers who were being defrauded. \n",
    "You've been tasked as a data scientist to build a machine learning model that can accurately flag if a given transaction\n",
    "is fraudulent or not. Your solution will help bank A's from losing its customers."
   ]
  },
  {
   "cell_type": "markdown",
   "metadata": {},
   "source": [
    "### Importing the neccessary libraries"
   ]
  },
  {
   "cell_type": "code",
   "execution_count": 1,
   "metadata": {},
   "outputs": [],
   "source": [
    "import pandas as pd \n",
    "import numpy as np \n",
    "import matplotlib.pyplot as plt\n",
    "import seaborn as sns\n",
    "\n",
    "from sklearn.model_selection import train_test_split\n",
    "from sklearn.metrics import roc_auc_score\n",
    "\n",
    "from sklearn.linear_model import LogisticRegression\n",
    "from sklearn.tree import DecisionTreeClassifier,ExtraTreeClassifier\n",
    "from sklearn.neighbors import KNeighborsClassifier\n",
    "from sklearn.ensemble import RandomForestClassifier, GradientBoostingClassifier\n",
    "from sklearn.discriminant_analysis import LinearDiscriminantAnalysis\n",
    "from sklearn.svm import SVC\n",
    "\n",
    "import warnings\n",
    "warnings.filterwarnings('ignore')\n",
    "%matplotlib inline"
   ]
  },
  {
   "cell_type": "markdown",
   "metadata": {},
   "source": [
    "### User defiined function"
   ]
  },
  {
   "cell_type": "code",
   "execution_count": 2,
   "metadata": {},
   "outputs": [],
   "source": [
    "def quality_report(df):\n",
    "    \"\"\"\n",
    "    Description: Displays quality of data in terms of missing values, unique numbers, datatypes etc.\n",
    "    Arguments: Dataframe\n",
    "    \"\"\"\n",
    "    dtypes = df.dtypes\n",
    "    nuniq = df.T.apply(lambda x: x.nunique(), axis=1)\n",
    "    total = df.isnull().sum().sort_values(ascending = False)\n",
    "    percent = (df.isnull().sum()/df.isnull().count()*100).sort_values(ascending = False)\n",
    "    quality_df  = pd.concat([total, percent, nuniq, dtypes], axis=1, keys=['Total', 'Percent','Nunique', 'Dtype'])\n",
    "    display(quality_df)"
   ]
  },
  {
   "cell_type": "markdown",
   "metadata": {},
   "source": [
    "### Reading Data"
   ]
  },
  {
   "cell_type": "code",
   "execution_count": 3,
   "metadata": {},
   "outputs": [
    {
     "name": "stdout",
     "output_type": "stream",
     "text": [
      "no of rows:  10493 \n",
      "no of columns:  14\n"
     ]
    }
   ],
   "source": [
    "train = pd.read_csv('train.csv')\n",
    "test = pd.read_csv('test.csv')\n",
    "\n",
    "train.drop('id', axis = 1, inplace = True)\n",
    "test.drop('id', axis = 1, inplace = True)\n",
    "print('no of rows: ',train.shape[0],'\\nno of columns: ',train.shape[1])"
   ]
  },
  {
   "cell_type": "markdown",
   "metadata": {},
   "source": [
    "Let's see what our data looks like"
   ]
  },
  {
   "cell_type": "code",
   "execution_count": 4,
   "metadata": {},
   "outputs": [
    {
     "data": {
      "text/html": [
       "<div>\n",
       "<style scoped>\n",
       "    .dataframe tbody tr th:only-of-type {\n",
       "        vertical-align: middle;\n",
       "    }\n",
       "\n",
       "    .dataframe tbody tr th {\n",
       "        vertical-align: top;\n",
       "    }\n",
       "\n",
       "    .dataframe thead th {\n",
       "        text-align: right;\n",
       "    }\n",
       "</style>\n",
       "<table border=\"1\" class=\"dataframe\">\n",
       "  <thead>\n",
       "    <tr style=\"text-align: right;\">\n",
       "      <th></th>\n",
       "      <th>transaction time</th>\n",
       "      <th>current bank amount</th>\n",
       "      <th>last bank amount</th>\n",
       "      <th>time taken (seconds)</th>\n",
       "      <th>most recent bank amount</th>\n",
       "      <th>account type</th>\n",
       "      <th>marital_status</th>\n",
       "      <th>age</th>\n",
       "      <th>occupation</th>\n",
       "      <th>credit card type</th>\n",
       "      <th>account source verification</th>\n",
       "      <th>transaction source method</th>\n",
       "      <th>account destination verification</th>\n",
       "      <th>fradulent</th>\n",
       "    </tr>\n",
       "  </thead>\n",
       "  <tbody>\n",
       "    <tr>\n",
       "      <th>0</th>\n",
       "      <td>2016-10-05T01:44:58</td>\n",
       "      <td>43671</td>\n",
       "      <td>1151263</td>\n",
       "      <td>2299</td>\n",
       "      <td>348764</td>\n",
       "      <td>saving</td>\n",
       "      <td>married</td>\n",
       "      <td>46</td>\n",
       "      <td>musician</td>\n",
       "      <td>master</td>\n",
       "      <td>True</td>\n",
       "      <td>False</td>\n",
       "      <td>True</td>\n",
       "      <td>0</td>\n",
       "    </tr>\n",
       "    <tr>\n",
       "      <th>1</th>\n",
       "      <td>2015-01-14T15:05:07</td>\n",
       "      <td>7442</td>\n",
       "      <td>1062843</td>\n",
       "      <td>4553</td>\n",
       "      <td>225114</td>\n",
       "      <td>current</td>\n",
       "      <td>single</td>\n",
       "      <td>64</td>\n",
       "      <td>accounting</td>\n",
       "      <td>master</td>\n",
       "      <td>True</td>\n",
       "      <td>False</td>\n",
       "      <td>False</td>\n",
       "      <td>0</td>\n",
       "    </tr>\n",
       "    <tr>\n",
       "      <th>2</th>\n",
       "      <td>2016-10-28T13:44:58</td>\n",
       "      <td>40102</td>\n",
       "      <td>48042</td>\n",
       "      <td>1493</td>\n",
       "      <td>420486</td>\n",
       "      <td>current</td>\n",
       "      <td>married</td>\n",
       "      <td>41</td>\n",
       "      <td>farmer</td>\n",
       "      <td>master</td>\n",
       "      <td>True</td>\n",
       "      <td>True</td>\n",
       "      <td>True</td>\n",
       "      <td>0</td>\n",
       "    </tr>\n",
       "  </tbody>\n",
       "</table>\n",
       "</div>"
      ],
      "text/plain": [
       "      transaction time  current bank amount  last bank amount  \\\n",
       "0  2016-10-05T01:44:58                43671           1151263   \n",
       "1  2015-01-14T15:05:07                 7442           1062843   \n",
       "2  2016-10-28T13:44:58                40102             48042   \n",
       "\n",
       "   time taken (seconds)  most recent bank amount account type marital_status  \\\n",
       "0                  2299                   348764       saving        married   \n",
       "1                  4553                   225114      current         single   \n",
       "2                  1493                   420486      current        married   \n",
       "\n",
       "   age  occupation credit card type  account source verification  \\\n",
       "0   46    musician           master                         True   \n",
       "1   64  accounting           master                         True   \n",
       "2   41      farmer           master                         True   \n",
       "\n",
       "   transaction source method  account destination verification  fradulent  \n",
       "0                      False                              True          0  \n",
       "1                      False                             False          0  \n",
       "2                       True                              True          0  "
      ]
     },
     "execution_count": 4,
     "metadata": {},
     "output_type": "execute_result"
    }
   ],
   "source": [
    "train.head(3)"
   ]
  },
  {
   "cell_type": "markdown",
   "metadata": {},
   "source": [
    "### Check the event rate\n",
    "The number of fraudulent and non-fradulent samples present in the training set"
   ]
  },
  {
   "cell_type": "code",
   "execution_count": 5,
   "metadata": {},
   "outputs": [
    {
     "data": {
      "text/plain": [
       "<matplotlib.axes._subplots.AxesSubplot at 0x32ce2213c8>"
      ]
     },
     "execution_count": 5,
     "metadata": {},
     "output_type": "execute_result"
    },
    {
     "data": {
      "image/png": "[encoded data removed]",
      "text/plain": [
       "<Figure size 432x288 with 1 Axes>"
      ]
     },
     "metadata": {
      "needs_background": "light"
     },
     "output_type": "display_data"
    }
   ],
   "source": [
    "sns.countplot(train['fradulent'])"
   ]
  },
  {
   "cell_type": "code",
   "execution_count": 6,
   "metadata": {},
   "outputs": [
    {
     "data": {
      "text/plain": [
       "0    7590\n",
       "1    2903\n",
       "Name: fradulent, dtype: int64"
      ]
     },
     "execution_count": 6,
     "metadata": {},
     "output_type": "execute_result"
    }
   ],
   "source": [
    "train.fradulent.value_counts()"
   ]
  },
  {
   "cell_type": "markdown",
   "metadata": {},
   "source": [
    "We have an imbalanced dataset to deal with here, though not extremely imbalanced, only 27% of the training sample are fraudulent transactions..I'll go ahead\n",
    "to train with it but you could check up how to handle class imbalance here\n",
    "https://towardsdatascience.com/methods-for-dealing-with-imbalanced-data-5b761be45a18\n"
   ]
  },
  {
   "cell_type": "markdown",
   "metadata": {},
   "source": [
    "### Check for duplicate rows"
   ]
  },
  {
   "cell_type": "code",
   "execution_count": 7,
   "metadata": {},
   "outputs": [
    {
     "name": "stdout",
     "output_type": "stream",
     "text": [
      "Number of duplicate rows:  0\n"
     ]
    }
   ],
   "source": [
    "duplicateRows = train[train.duplicated()]\n",
    "print('Number of duplicate rows: ',duplicateRows.shape[0])"
   ]
  },
  {
   "cell_type": "markdown",
   "metadata": {},
   "source": [
    "### Display the Attributes/Features"
   ]
  },
  {
   "cell_type": "code",
   "execution_count": 8,
   "metadata": {},
   "outputs": [
    {
     "name": "stdout",
     "output_type": "stream",
     "text": [
      "<class 'pandas.core.frame.DataFrame'>\n",
      "RangeIndex: 10493 entries, 0 to 10492\n",
      "Data columns (total 14 columns):\n",
      "transaction time                    10493 non-null object\n",
      "current bank amount                 10493 non-null int64\n",
      "last bank amount                    10493 non-null int64\n",
      "time taken (seconds)                10493 non-null int64\n",
      "most recent bank amount             10493 non-null int64\n",
      "account type                        10493 non-null object\n",
      "marital_status                      10493 non-null object\n",
      "age                                 10493 non-null int64\n",
      "occupation                          10493 non-null object\n",
      "credit card type                    10493 non-null object\n",
      "account source verification         10493 non-null bool\n",
      "transaction source method           10493 non-null bool\n",
      "account destination verification    10493 non-null bool\n",
      "fradulent                           10493 non-null int64\n",
      "dtypes: bool(3), int64(6), object(5)\n",
      "memory usage: 932.6+ KB\n"
     ]
    }
   ],
   "source": [
    "train.info()"
   ]
  },
  {
   "cell_type": "markdown",
   "metadata": {},
   "source": [
    "It turns out we have rows with the object dtype which are categorical features, I'll also treat ones with bool dtype as a categorical feature too (i.e True or false)"
   ]
  },
  {
   "cell_type": "markdown",
   "metadata": {},
   "source": [
    "### Quick descriptive statistics"
   ]
  },
  {
   "cell_type": "code",
   "execution_count": 9,
   "metadata": {},
   "outputs": [
    {
     "data": {
      "text/html": [
       "<div>\n",
       "<style scoped>\n",
       "    .dataframe tbody tr th:only-of-type {\n",
       "        vertical-align: middle;\n",
       "    }\n",
       "\n",
       "    .dataframe tbody tr th {\n",
       "        vertical-align: top;\n",
       "    }\n",
       "\n",
       "    .dataframe thead th {\n",
       "        text-align: right;\n",
       "    }\n",
       "</style>\n",
       "<table border=\"1\" class=\"dataframe\">\n",
       "  <thead>\n",
       "    <tr style=\"text-align: right;\">\n",
       "      <th></th>\n",
       "      <th>current bank amount</th>\n",
       "      <th>last bank amount</th>\n",
       "      <th>time taken (seconds)</th>\n",
       "      <th>most recent bank amount</th>\n",
       "      <th>age</th>\n",
       "      <th>fradulent</th>\n",
       "    </tr>\n",
       "  </thead>\n",
       "  <tbody>\n",
       "    <tr>\n",
       "      <th>count</th>\n",
       "      <td>10493.000000</td>\n",
       "      <td>1.049300e+04</td>\n",
       "      <td>10493.000000</td>\n",
       "      <td>10493.000000</td>\n",
       "      <td>10493.000000</td>\n",
       "      <td>10493.000000</td>\n",
       "    </tr>\n",
       "    <tr>\n",
       "      <th>mean</th>\n",
       "      <td>50001.984656</td>\n",
       "      <td>7.492752e+05</td>\n",
       "      <td>2508.627657</td>\n",
       "      <td>250768.667588</td>\n",
       "      <td>54.649004</td>\n",
       "      <td>0.276661</td>\n",
       "    </tr>\n",
       "    <tr>\n",
       "      <th>std</th>\n",
       "      <td>28681.350627</td>\n",
       "      <td>4.336081e+05</td>\n",
       "      <td>1432.820357</td>\n",
       "      <td>144145.272817</td>\n",
       "      <td>14.350928</td>\n",
       "      <td>0.447369</td>\n",
       "    </tr>\n",
       "    <tr>\n",
       "      <th>min</th>\n",
       "      <td>1.000000</td>\n",
       "      <td>8.000000e+00</td>\n",
       "      <td>4.000000</td>\n",
       "      <td>34.000000</td>\n",
       "      <td>30.000000</td>\n",
       "      <td>0.000000</td>\n",
       "    </tr>\n",
       "    <tr>\n",
       "      <th>25%</th>\n",
       "      <td>25243.000000</td>\n",
       "      <td>3.787840e+05</td>\n",
       "      <td>1282.000000</td>\n",
       "      <td>126333.000000</td>\n",
       "      <td>42.000000</td>\n",
       "      <td>0.000000</td>\n",
       "    </tr>\n",
       "    <tr>\n",
       "      <th>50%</th>\n",
       "      <td>50093.000000</td>\n",
       "      <td>7.485950e+05</td>\n",
       "      <td>2520.000000</td>\n",
       "      <td>253174.000000</td>\n",
       "      <td>55.000000</td>\n",
       "      <td>0.000000</td>\n",
       "    </tr>\n",
       "    <tr>\n",
       "      <th>75%</th>\n",
       "      <td>74539.000000</td>\n",
       "      <td>1.126013e+06</td>\n",
       "      <td>3710.000000</td>\n",
       "      <td>376461.000000</td>\n",
       "      <td>67.000000</td>\n",
       "      <td>1.000000</td>\n",
       "    </tr>\n",
       "    <tr>\n",
       "      <th>max</th>\n",
       "      <td>99989.000000</td>\n",
       "      <td>1.499877e+06</td>\n",
       "      <td>4999.000000</td>\n",
       "      <td>499926.000000</td>\n",
       "      <td>79.000000</td>\n",
       "      <td>1.000000</td>\n",
       "    </tr>\n",
       "  </tbody>\n",
       "</table>\n",
       "</div>"
      ],
      "text/plain": [
       "       current bank amount  last bank amount  time taken (seconds)  \\\n",
       "count         10493.000000      1.049300e+04          10493.000000   \n",
       "mean          50001.984656      7.492752e+05           2508.627657   \n",
       "std           28681.350627      4.336081e+05           1432.820357   \n",
       "min               1.000000      8.000000e+00              4.000000   \n",
       "25%           25243.000000      3.787840e+05           1282.000000   \n",
       "50%           50093.000000      7.485950e+05           2520.000000   \n",
       "75%           74539.000000      1.126013e+06           3710.000000   \n",
       "max           99989.000000      1.499877e+06           4999.000000   \n",
       "\n",
       "       most recent bank amount           age     fradulent  \n",
       "count             10493.000000  10493.000000  10493.000000  \n",
       "mean             250768.667588     54.649004      0.276661  \n",
       "std              144145.272817     14.350928      0.447369  \n",
       "min                  34.000000     30.000000      0.000000  \n",
       "25%              126333.000000     42.000000      0.000000  \n",
       "50%              253174.000000     55.000000      0.000000  \n",
       "75%              376461.000000     67.000000      1.000000  \n",
       "max              499926.000000     79.000000      1.000000  "
      ]
     },
     "execution_count": 9,
     "metadata": {},
     "output_type": "execute_result"
    }
   ],
   "source": [
    "# This gives summary statistics on all numerical features present in the dataset\n",
    "train.describe()"
   ]
  },
  {
   "cell_type": "markdown",
   "metadata": {},
   "source": [
    "### Checking Data quality (Missing values)"
   ]
  },
  {
   "cell_type": "code",
   "execution_count": 10,
   "metadata": {},
   "outputs": [
    {
     "data": {
      "text/html": [
       "<div>\n",
       "<style scoped>\n",
       "    .dataframe tbody tr th:only-of-type {\n",
       "        vertical-align: middle;\n",
       "    }\n",
       "\n",
       "    .dataframe tbody tr th {\n",
       "        vertical-align: top;\n",
       "    }\n",
       "\n",
       "    .dataframe thead th {\n",
       "        text-align: right;\n",
       "    }\n",
       "</style>\n",
       "<table border=\"1\" class=\"dataframe\">\n",
       "  <thead>\n",
       "    <tr style=\"text-align: right;\">\n",
       "      <th></th>\n",
       "      <th>Total</th>\n",
       "      <th>Percent</th>\n",
       "      <th>Nunique</th>\n",
       "      <th>Dtype</th>\n",
       "    </tr>\n",
       "  </thead>\n",
       "  <tbody>\n",
       "    <tr>\n",
       "      <th>account destination verification</th>\n",
       "      <td>0</td>\n",
       "      <td>0.0</td>\n",
       "      <td>2</td>\n",
       "      <td>bool</td>\n",
       "    </tr>\n",
       "    <tr>\n",
       "      <th>account source verification</th>\n",
       "      <td>0</td>\n",
       "      <td>0.0</td>\n",
       "      <td>2</td>\n",
       "      <td>bool</td>\n",
       "    </tr>\n",
       "    <tr>\n",
       "      <th>account type</th>\n",
       "      <td>0</td>\n",
       "      <td>0.0</td>\n",
       "      <td>2</td>\n",
       "      <td>object</td>\n",
       "    </tr>\n",
       "    <tr>\n",
       "      <th>age</th>\n",
       "      <td>0</td>\n",
       "      <td>0.0</td>\n",
       "      <td>50</td>\n",
       "      <td>int64</td>\n",
       "    </tr>\n",
       "    <tr>\n",
       "      <th>credit card type</th>\n",
       "      <td>0</td>\n",
       "      <td>0.0</td>\n",
       "      <td>2</td>\n",
       "      <td>object</td>\n",
       "    </tr>\n",
       "    <tr>\n",
       "      <th>current bank amount</th>\n",
       "      <td>0</td>\n",
       "      <td>0.0</td>\n",
       "      <td>10009</td>\n",
       "      <td>int64</td>\n",
       "    </tr>\n",
       "    <tr>\n",
       "      <th>fradulent</th>\n",
       "      <td>0</td>\n",
       "      <td>0.0</td>\n",
       "      <td>2</td>\n",
       "      <td>int64</td>\n",
       "    </tr>\n",
       "    <tr>\n",
       "      <th>last bank amount</th>\n",
       "      <td>0</td>\n",
       "      <td>0.0</td>\n",
       "      <td>10453</td>\n",
       "      <td>int64</td>\n",
       "    </tr>\n",
       "    <tr>\n",
       "      <th>marital_status</th>\n",
       "      <td>0</td>\n",
       "      <td>0.0</td>\n",
       "      <td>3</td>\n",
       "      <td>object</td>\n",
       "    </tr>\n",
       "    <tr>\n",
       "      <th>most recent bank amount</th>\n",
       "      <td>0</td>\n",
       "      <td>0.0</td>\n",
       "      <td>10378</td>\n",
       "      <td>int64</td>\n",
       "    </tr>\n",
       "    <tr>\n",
       "      <th>occupation</th>\n",
       "      <td>0</td>\n",
       "      <td>0.0</td>\n",
       "      <td>8</td>\n",
       "      <td>object</td>\n",
       "    </tr>\n",
       "    <tr>\n",
       "      <th>time taken (seconds)</th>\n",
       "      <td>0</td>\n",
       "      <td>0.0</td>\n",
       "      <td>4388</td>\n",
       "      <td>int64</td>\n",
       "    </tr>\n",
       "    <tr>\n",
       "      <th>transaction source method</th>\n",
       "      <td>0</td>\n",
       "      <td>0.0</td>\n",
       "      <td>2</td>\n",
       "      <td>bool</td>\n",
       "    </tr>\n",
       "    <tr>\n",
       "      <th>transaction time</th>\n",
       "      <td>0</td>\n",
       "      <td>0.0</td>\n",
       "      <td>10492</td>\n",
       "      <td>object</td>\n",
       "    </tr>\n",
       "  </tbody>\n",
       "</table>\n",
       "</div>"
      ],
      "text/plain": [
       "                                  Total  Percent  Nunique   Dtype\n",
       "account destination verification      0      0.0        2    bool\n",
       "account source verification           0      0.0        2    bool\n",
       "account type                          0      0.0        2  object\n",
       "age                                   0      0.0       50   int64\n",
       "credit card type                      0      0.0        2  object\n",
       "current bank amount                   0      0.0    10009   int64\n",
       "fradulent                             0      0.0        2   int64\n",
       "last bank amount                      0      0.0    10453   int64\n",
       "marital_status                        0      0.0        3  object\n",
       "most recent bank amount               0      0.0    10378   int64\n",
       "occupation                            0      0.0        8  object\n",
       "time taken (seconds)                  0      0.0     4388   int64\n",
       "transaction source method             0      0.0        2    bool\n",
       "transaction time                      0      0.0    10492  object"
      ]
     },
     "metadata": {},
     "output_type": "display_data"
    }
   ],
   "source": [
    "#Function displays the percentage of missing value in any dataframe\n",
    "quality_report(train)"
   ]
  },
  {
   "cell_type": "markdown",
   "metadata": {},
   "source": [
    "We don't have to handle any missing values, It makes things easier. To check for missing values you could\n",
    "also use train.isnull.sum() which gives the sum of all missing values in each column of the data"
   ]
  },
  {
   "cell_type": "markdown",
   "metadata": {},
   "source": [
    "### A little exploratory data analysis  (EDA)"
   ]
  },
  {
   "cell_type": "code",
   "execution_count": 11,
   "metadata": {},
   "outputs": [
    {
     "data": {
      "text/plain": [
       "<matplotlib.axes._subplots.AxesSubplot at 0x32cea6d0f0>"
      ]
     },
     "execution_count": 11,
     "metadata": {},
     "output_type": "execute_result"
    },
    {
     "data": {
      "image/png": "[encoded data removed]",
      "text/plain": [
       "<Figure size 432x288 with 1 Axes>"
      ]
     },
     "metadata": {
      "needs_background": "light"
     },
     "output_type": "display_data"
    }
   ],
   "source": [
    "sns.countplot(train['occupation'], hue = train['fradulent'])"
   ]
  },
  {
   "cell_type": "code",
   "execution_count": 12,
   "metadata": {},
   "outputs": [
    {
     "data": {
      "text/plain": [
       "<matplotlib.axes._subplots.AxesSubplot at 0x32ce3e1748>"
      ]
     },
     "execution_count": 12,
     "metadata": {},
     "output_type": "execute_result"
    },
    {
     "data": {
      "image/png": "[encoded data removed]",
      "text/plain": [
       "<Figure size 432x288 with 1 Axes>"
      ]
     },
     "metadata": {
      "needs_background": "light"
     },
     "output_type": "display_data"
    }
   ],
   "source": [
    "sns.countplot(train['account type'], hue = train['fradulent'])"
   ]
  },
  {
   "cell_type": "code",
   "execution_count": 13,
   "metadata": {},
   "outputs": [
    {
     "data": {
      "text/plain": [
       "<matplotlib.axes._subplots.AxesSubplot at 0x32ce43dba8>"
      ]
     },
     "execution_count": 13,
     "metadata": {},
     "output_type": "execute_result"
    },
    {
     "data": {
      "image/png": "[encoded data removed]",
      "text/plain": [
       "<Figure size 432x288 with 1 Axes>"
      ]
     },
     "metadata": {
      "needs_background": "light"
     },
     "output_type": "display_data"
    }
   ],
   "source": [
    "sns.distplot(train['time taken (seconds)'])"
   ]
  },
  {
   "cell_type": "markdown",
   "metadata": {},
   "source": [
    "### Can we make inference from EDA\n",
    "- Most account with fraudulent transactions belonged to Clergies, and fraudulent transactions happened with mostly current accounts.\n",
    "- Distribution of time taken for transactions looks uniform,In this case,meaning there is a possibly unlimited number of     outcomes i.e transactions have almost the same probability to span any length of time."
   ]
  },
  {
   "cell_type": "markdown",
   "metadata": {},
   "source": [
    "### Preparing data for modeling"
   ]
  },
  {
   "cell_type": "markdown",
   "metadata": {},
   "source": [
    "You can’t fit categorical variables into a learning algorithm in their raw form. They must be treated. One way of doing this is Dummy coding,It is a commonly used method for converting a categorical input variable into continuous variable. ‘Dummy’, as the name suggests is a duplicate variable which represents one level of a categorical variable. Presence of a level is represent by 1 and absence is represented by 0. For every level present, one dummy variable will be created. https://towardsdatascience.com/machine-learning-on-categorical-variables-3b76ffe4a7cb"
   ]
  },
  {
   "cell_type": "code",
   "execution_count": null,
   "metadata": {},
   "outputs": [],
   "source": [
    "train = pd.get_dummies(columns = ['account type','credit card type','account source verification',\n",
    "                                  'transaction source method', 'account destination verification',\n",
    "                                  'occupation'], data = train)\n",
    "test  = pd.get_dummies(columns = ['account type','credit card type','account source verification',\n",
    "                                  'transaction source method', 'account destination verification',\n",
    "                                  'occupation'], data = test)"
   ]
  },
  {
   "cell_type": "markdown",
   "metadata": {},
   "source": [
    "selecting input features(columns) X and target y"
   ]
  },
  {
   "cell_type": "code",
   "execution_count": 15,
   "metadata": {},
   "outputs": [],
   "source": [
    "X = train.drop(columns = ['fradulent','marital_status', 'transaction time'])\n",
    "y = train['fradulent'] "
   ]
  },
  {
   "cell_type": "markdown",
   "metadata": {},
   "source": [
    "Before training our data is usually split into a training data and a local test data. We have this local testset (or subset) in order to test our model’s peformance, before predicting on the actual test data. I'll take 20% of the training data for this purpose"
   ]
  },
  {
   "cell_type": "code",
   "execution_count": 16,
   "metadata": {},
   "outputs": [],
   "source": [
    "X_train, X_test, y_train, y_test = train_test_split(X, y, test_size=0.2, random_state=42, stratify = y)"
   ]
  },
  {
   "cell_type": "markdown",
   "metadata": {},
   "source": [
    "### Picking a baseline algorithm"
   ]
  },
  {
   "cell_type": "markdown",
   "metadata": {},
   "source": [
    "Here is a loop to train and evaluate different models, hence we get to pick one with the best result"
   ]
  },
  {
   "cell_type": "code",
   "execution_count": 17,
   "metadata": {},
   "outputs": [
    {
     "name": "stdout",
     "output_type": "stream",
     "text": [
      "Lr: 0.525441 \n",
      "LDA: 0.597072 \n",
      "Knn: 0.490983 \n",
      "Decision_Tree: 0.526723 \n",
      "Extra_Tree: 0.559935 \n",
      "RF: 0.598755 \n",
      "GBM: 0.631461 \n"
     ]
    }
   ],
   "source": [
    "seed = 7\n",
    "# prepare models\n",
    "models = []\n",
    "models.append(('Lr', LogisticRegression()))\n",
    "models.append(('LDA', LinearDiscriminantAnalysis()))\n",
    "models.append(('Knn', KNeighborsClassifier()))\n",
    "models.append(('Decision_Tree', DecisionTreeClassifier()))\n",
    "models.append(('Extra_Tree', ExtraTreeClassifier()))\n",
    "models.append(('RF', RandomForestClassifier())) \n",
    "models.append(('GBM', GradientBoostingClassifier()))\n",
    "\n",
    "\n",
    "# evaluate each model in turn\n",
    "results = []\n",
    "names = []\n",
    "scoring = 'roc_auc'\n",
    "for name, model in models:\n",
    "    model.fit(X_train, y_train)\n",
    "    score = roc_auc_score(y_test, model.predict_proba(X_test)[:,1])\n",
    "    results.append(score)\n",
    "    names.append(name)\n",
    "    msg = \"%s: %f \" % (name, score)\n",
    "    print(msg)"
   ]
  },
  {
   "cell_type": "markdown",
   "metadata": {},
   "source": [
    "### Feature importance plot"
   ]
  },
  {
   "cell_type": "code",
   "execution_count": 19,
   "metadata": {},
   "outputs": [
    {
     "data": {
      "image/png": "[encoded data removed]",
      "text/plain": [
       "<Figure size 432x288 with 1 Axes>"
      ]
     },
     "metadata": {
      "needs_background": "light"
     },
     "output_type": "display_data"
    }
   ],
   "source": [
    "features = X.columns\n",
    "importances = model.feature_importances_\n",
    "indices = np.argsort(importances)\n",
    "\n",
    "plt.title('Feature Importances')\n",
    "plt.barh(range(len(indices)), importances[indices], color='b', align='center')\n",
    "plt.yticks(range(len(indices)), [features[i] for i in indices])\n",
    "plt.xlabel('Relative Importance')\n",
    "plt.show()"
   ]
  },
  {
   "cell_type": "code",
   "execution_count": 20,
   "metadata": {},
   "outputs": [
    {
     "data": {
      "text/plain": [
       "0.6354293515110696"
      ]
     },
     "execution_count": 20,
     "metadata": {},
     "output_type": "execute_result"
    }
   ],
   "source": [
    "model = GradientBoostingClassifier(n_estimators=50)\n",
    "model.fit(X_train, y_train)\n",
    "roc_auc_score(y_test, model.predict_proba(X_test)[:,1])"
   ]
  },
  {
   "cell_type": "markdown",
   "metadata": {},
   "source": [
    "GradientBoosting Classifier seem to be doing a good job. Now lets Predict on the test data and making submission"
   ]
  },
  {
   "cell_type": "code",
   "execution_count": 22,
   "metadata": {},
   "outputs": [],
   "source": [
    "test_x = test.drop(columns = ['marital_status', 'transaction time'])"
   ]
  },
  {
   "cell_type": "code",
   "execution_count": 23,
   "metadata": {},
   "outputs": [],
   "source": [
    "pred = model.predict_proba(test_x)[:,1]"
   ]
  },
  {
   "cell_type": "code",
   "execution_count": 24,
   "metadata": {},
   "outputs": [],
   "source": [
    "df = pd.read_csv('sample sub.csv')\n",
    "df['fradulent'] = pred\n",
    "df[['id','fradulent']].to_csv('submit.csv', index = False)"
   ]
  },
  {
   "cell_type": "markdown",
   "metadata": {},
   "source": [
    "### Suggestions.\n",
    "- To improve model performance, Some features were not use for training e.g Transaction Time, \n",
    "  more features could be gotten from this e.g the hour of the day,day of week etc the transaction took place. see      https://medium.com/@swethalakshmanan14/simple-ways-to-extract-features-from-date-variable-using-python-60c33e3b0501\n",
    "  \n",
    "- Some features not be usefull for prediction, you could try selecting features manually,plotting feature importance will help\n",
    "- Performing cross validation across different training folds is a better way of evaluating model performance, One need to sure that the model generalizes https://towardsdatascience.com/train-test-split-and-cross-validation-in-python-80b61beca4b6\n",
    "- Try using more robust learning algorithms like xgboost,catboost,LightGBM etc."
   ]
  },
  {
   "cell_type": "code",
   "execution_count": null,
   "metadata": {},
   "outputs": [],
   "source": []
  }
 ],
 "metadata": {
  "kernelspec": {
   "display_name": "Python 3",
   "language": "python",
   "name": "python3"
  },
  "language_info": {
   "codemirror_mode": {
    "name": "ipython",
    "version": 3
   },
   "file_extension": ".py",
   "mimetype": "text/x-python",
   "name": "python",
   "nbconvert_exporter": "python",
   "pygments_lexer": "ipython3",
   "version": "3.6.8"
  }
 },
 "nbformat": 4,
 "nbformat_minor": 2
}
